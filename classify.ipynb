{
 "cells": [
  {
   "cell_type": "code",
   "execution_count": 63,
   "metadata": {},
   "outputs": [],
   "source": [
    "import os\n",
    "import pandas as pd\n",
    "from torch.utils.data import Dataset\n",
    "import torch\n",
    "import torch\n",
    "import torch.nn as nn\n",
    "import torch.optim as optim\n",
    "from torch.utils.data import DataLoader, TensorDataset\n",
    "from sklearn.metrics import accuracy_score, average_precision_score, roc_auc_score"
   ]
  },
  {
   "cell_type": "code",
   "execution_count": 64,
   "metadata": {},
   "outputs": [],
   "source": [
    "class CustomDataset(Dataset):\n",
    "    def __init__(self, annotations_file, feature_dir):\n",
    "        self.img_labels = pd.read_csv(annotations_file)\n",
    "        self.img_dir = feature_dir\n",
    "        self.feature_paths = []\n",
    "        self.labels = []\n",
    "        problem = [\"/scratch/features/train/set22/trn24016.pth\",\n",
    "\"/scratch/features/train/set12/trn12411.pth\",\n",
    "\"/scratch/features/train/set9/trn09320.pth\",\n",
    "\"/scratch/features/train/set18/trn19397.pth\",\n",
    "\"/scratch/features/train/set7/trn07778.pth\",\n",
    "\"/scratch/features/train/set14/trn15124.pth\",\n",
    "\"/scratch/features/train/set14/trn15109.pth\",\n",
    "\"/scratch/features/train/set10/trn10310.pth\",\n",
    "\"/scratch/features/train/set13/trn14334.pth\"]\n",
    "        for set in os.listdir(feature_dir):\n",
    "            set_path = os.path.join(feature_dir, set)\n",
    "            for feature in os.listdir(set_path):\n",
    "                feature_path = os.path.join(set_path, feature)\n",
    "                if(feature_path in problem):\n",
    "                    continue\n",
    "                self.feature_paths.append(feature_path)\n",
    "                \n",
    "                image = feature.split(\".\")[0]\n",
    "                self.labels.append(torch.tensor(self.img_labels[self.img_labels['NoteAcc_DEID'] == image][['nodule*lung', 'opacity*lung', 'atelectasis*lung', 'consolidation*lung', 'mass*lung', 'pneumothorax*lung']].values[0]))\n",
    "                # self.labels.append(torch.tensor(self.img_labels[self.img_labels['NoteAcc_DEID'] == image][['opacity*lung']].values[0]))\n",
    "\n",
    "    def __len__(self):\n",
    "        return len(self.feature_paths)\n",
    "\n",
    "    def __getitem__(self, idx):\n",
    "        feature = torch.load(self.feature_paths[idx])\n",
    "        label = self.labels[idx]\n",
    "        \n",
    "        return feature, label\n",
    "\n"
   ]
  },
  {
   "cell_type": "code",
   "execution_count": 65,
   "metadata": {},
   "outputs": [],
   "source": [
    "label_file = 'imgtrain_Abnormality_and_Location_Labels.csv'\n",
    "train_features = '/scratch/features/train'\n",
    "traindata = CustomDataset(label_file, train_features)\n",
    "device = torch.device(\"cuda\" if torch.cuda.is_available() else \"cpu\")\n"
   ]
  },
  {
   "cell_type": "code",
   "execution_count": 66,
   "metadata": {},
   "outputs": [],
   "source": [
    "num_features=2048\n",
    "num_labels=6\n",
    "class MultiLabelNN(nn.Module):\n",
    "    def __init__(self, input_dim, output_dim):\n",
    "        super(MultiLabelNN, self).__init__()\n",
    "        self.fc1 = nn.Linear(input_dim, 128)\n",
    "        self.fc2 = nn.Linear(128, 64)\n",
    "        self.fc3 = nn.Linear(64, output_dim)\n",
    "    \n",
    "    def forward(self, x): \n",
    "        x = torch.relu(self.fc1(x))\n",
    "        x = torch.relu(self.fc2(x))\n",
    "        x = self.fc3(x)\n",
    "        return x\n",
    "\n",
    "model = MultiLabelNN(num_features, num_labels).to(device)\n"
   ]
  },
  {
   "cell_type": "code",
   "execution_count": 67,
   "metadata": {},
   "outputs": [],
   "source": [
    "criterion = nn.BCEWithLogitsLoss()  # For multi-label classification\n",
    "optimizer = optim.Adam(model.parameters(), lr=0.001)"
   ]
  },
  {
   "cell_type": "code",
   "execution_count": 68,
   "metadata": {},
   "outputs": [
    {
     "name": "stdout",
     "output_type": "stream",
     "text": [
      "Epoch 1/10, Loss: 1764.1739, Average Precision (Macro): 0.3102, AUROC: 0.5054\n",
      "Epoch 2/10, Loss: 1237.2479, Average Precision (Macro): 0.3091, AUROC: 0.5039\n",
      "Epoch 3/10, Loss: 812.3440, Average Precision (Macro): 0.3111, AUROC: 0.5089\n",
      "Epoch 4/10, Loss: 593.3073, Average Precision (Macro): 0.3094, AUROC: 0.5052\n",
      "Epoch 5/10, Loss: 433.4786, Average Precision (Macro): 0.3073, AUROC: 0.5013\n",
      "Epoch 6/10, Loss: 421.2435, Average Precision (Macro): 0.3074, AUROC: 0.5010\n",
      "Epoch 7/10, Loss: 441.2268, Average Precision (Macro): 0.3068, AUROC: 0.4999\n",
      "Epoch 8/10, Loss: 358.0331, Average Precision (Macro): 0.3111, AUROC: 0.5097\n",
      "Epoch 9/10, Loss: 305.7465, Average Precision (Macro): 0.3089, AUROC: 0.5031\n",
      "Epoch 10/10, Loss: 374.9251, Average Precision (Macro): 0.3076, AUROC: 0.5025\n"
     ]
    }
   ],
   "source": [
    "num_epochs = 10\n",
    "dataloader = DataLoader(traindata, batch_size=512, shuffle=True)\n",
    "for epoch in range(num_epochs):\n",
    "    model.train()  \n",
    "    running_loss = 0.0\n",
    "    running_accuracy = 0\n",
    "    epoch_outputs = torch.empty((0,6))\n",
    "    epoch_targets = torch.empty((0,6))\n",
    "    for inputs, targets in dataloader:\n",
    "        inputs = inputs.to(device)\n",
    "        targets = targets.to(device)\n",
    "        optimizer.zero_grad()\n",
    "        outputs = model(torch.mean(inputs, dim=1))\n",
    "        loss = criterion(outputs, targets)\n",
    "        loss.backward()\n",
    "        optimizer.step()\n",
    "        epoch_outputs = torch.cat((epoch_outputs, outputs.cpu()))\n",
    "        epoch_targets = torch.cat((epoch_targets, targets.cpu()))\n",
    "        running_loss += loss.item() * inputs.size(0)\n",
    "        epoch_loss = running_loss / len(traindata)\n",
    "    probabilities = torch.sigmoid(epoch_outputs)\n",
    "    predictions = (probabilities > 0.5).float()\n",
    "\n",
    "    predictions_np = predictions.detach().numpy()\n",
    "    targets_np = epoch_targets.numpy()\n",
    "\n",
    "    average_precision = average_precision_score(targets_np, predictions_np, average='macro')\n",
    "    auroc_score = roc_auc_score(targets_np,predictions_np,average='macro')\n",
    "    print(f'Epoch {epoch+1}/{num_epochs}, Loss: {epoch_loss:.4f}, Average Precision (Macro): {average_precision:.4f}, AUROC: {auroc_score:.4f}')\n"
   ]
  },
  {
   "cell_type": "code",
   "execution_count": 69,
   "metadata": {},
   "outputs": [
    {
     "name": "stdout",
     "output_type": "stream",
     "text": [
      "[[1. 1. 0. 0. 0. 0.]\n",
      " [1. 1. 1. 0. 0. 0.]\n",
      " [1. 1. 0. 0. 0. 0.]\n",
      " ...\n",
      " [1. 0. 1. 0. 0. 0.]\n",
      " [1. 0. 1. 0. 0. 0.]\n",
      " [1. 0. 1. 0. 0. 0.]] [[0. 1. 0. 0. 0. 0.]\n",
      " [1. 1. 0. 1. 0. 0.]\n",
      " [0. 1. 0. 0. 0. 0.]\n",
      " ...\n",
      " [1. 0. 0. 0. 0. 0.]\n",
      " [1. 1. 0. 1. 0. 0.]\n",
      " [1. 0. 1. 0. 0. 0.]]\n"
     ]
    }
   ],
   "source": [
    "print(predictions_np, targets_np)"
   ]
  },
  {
   "cell_type": "code",
   "execution_count": 70,
   "metadata": {},
   "outputs": [
    {
     "name": "stdout",
     "output_type": "stream",
     "text": [
      "tensor([[1.0000e+00, 1.0000e+00, 6.9580e-13, 0.0000e+00, 0.0000e+00, 0.0000e+00],\n",
      "        [1.0000e+00, 1.0000e+00, 1.0000e+00, 0.0000e+00, 0.0000e+00, 0.0000e+00],\n",
      "        [1.0000e+00, 1.0000e+00, 2.2349e-06, 0.0000e+00, 0.0000e+00, 0.0000e+00],\n",
      "        ...,\n",
      "        [1.0000e+00, 0.0000e+00, 1.0000e+00, 0.0000e+00, 0.0000e+00, 0.0000e+00],\n",
      "        [1.0000e+00, 0.0000e+00, 1.0000e+00, 0.0000e+00, 0.0000e+00, 0.0000e+00],\n",
      "        [1.0000e+00, 0.0000e+00, 1.0000e+00, 0.0000e+00, 0.0000e+00, 0.0000e+00]],\n",
      "       grad_fn=<SigmoidBackward0>)\n"
     ]
    }
   ],
   "source": [
    "print(probabilities)"
   ]
  }
 ],
 "metadata": {
  "kernelspec": {
   "display_name": "pytorch2",
   "language": "python",
   "name": "python3"
  },
  "language_info": {
   "codemirror_mode": {
    "name": "ipython",
    "version": 3
   },
   "file_extension": ".py",
   "mimetype": "text/x-python",
   "name": "python",
   "nbconvert_exporter": "python",
   "pygments_lexer": "ipython3",
   "version": "3.10.13"
  }
 },
 "nbformat": 4,
 "nbformat_minor": 2
}
