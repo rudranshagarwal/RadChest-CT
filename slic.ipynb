{
  "cells": [
    {
      "cell_type": "markdown",
      "metadata": {
        "id": "view-in-github",
        "colab_type": "text"
      },
      "source": [
        "<a href=\"https://colab.research.google.com/github/rudranshagarwal/RadChest-CT/blob/main/slic.ipynb\" target=\"_parent\"><img src=\"https://colab.research.google.com/assets/colab-badge.svg\" alt=\"Open In Colab\"/></a>"
      ]
    },
    {
      "cell_type": "code",
      "source": [
        "!pip install SimpleITK"
      ],
      "metadata": {
        "colab": {
          "base_uri": "https://localhost:8080/"
        },
        "id": "leDsrmVI7TrK",
        "outputId": "b7e7721d-ae97-4c6d-a56c-0563959cae20"
      },
      "execution_count": null,
      "outputs": [
        {
          "output_type": "stream",
          "name": "stdout",
          "text": [
            "Requirement already satisfied: SimpleITK in /usr/local/lib/python3.10/dist-packages (2.3.1)\n"
          ]
        }
      ]
    },
    {
      "cell_type": "code",
      "source": [
        "!pip install pynrrd"
      ],
      "metadata": {
        "colab": {
          "base_uri": "https://localhost:8080/"
        },
        "id": "gDk-xIXM7moy",
        "outputId": "8c1eb999-8675-45ea-b140-7f16cfea6cdf"
      },
      "execution_count": null,
      "outputs": [
        {
          "output_type": "stream",
          "name": "stdout",
          "text": [
            "Requirement already satisfied: pynrrd in /usr/local/lib/python3.10/dist-packages (1.0.0)\n",
            "Requirement already satisfied: numpy>=1.11.1 in /usr/local/lib/python3.10/dist-packages (from pynrrd) (1.23.5)\n",
            "Requirement already satisfied: nptyping in /usr/local/lib/python3.10/dist-packages (from pynrrd) (2.5.0)\n",
            "Requirement already satisfied: typing-extensions in /usr/local/lib/python3.10/dist-packages (from pynrrd) (4.5.0)\n"
          ]
        }
      ]
    },
    {
      "cell_type": "code",
      "execution_count": null,
      "metadata": {
        "id": "sntDfQZ2seIi"
      },
      "outputs": [],
      "source": [
        "import matplotlib.pyplot as plt\n",
        "import numpy as np\n",
        "import SimpleITK as sitk\n",
        "\n",
        "from skimage.segmentation import slic, quickshift, felzenszwalb\n",
        "from skimage.segmentation import mark_boundaries\n",
        "from skimage.measure import regionprops\n",
        "from skimage.util import img_as_float\n",
        "from skimage import io, exposure, util\n",
        "\n",
        "# from mpl_toolkits.mplot3d.art3d import Poly3DCollection\n",
        "\n",
        "import pickle\n",
        "import glob\n",
        "import sys\n",
        "import nrrd"
      ]
    },
    {
      "cell_type": "code",
      "execution_count": null,
      "metadata": {
        "id": "afDtS42qseIl",
        "outputId": "ab0b5269-0fca-434d-9736-0beeff3d28fa",
        "colab": {
          "base_uri": "https://localhost:8080/"
        }
      },
      "outputs": [
        {
          "output_type": "stream",
          "name": "stdout",
          "text": [
            "\n",
            "Processing file: /content/drive/MyDrive/output_image.nii and mask: /content/drive/MyDrive/test.nii\n",
            "\n"
          ]
        }
      ],
      "source": [
        "def read_mha_file(filepath):\n",
        "    \"\"\"Read and load volume\"\"\"\n",
        "    # Read file\n",
        "    scan_sitk = sitk.ReadImage(filepath, sitk.sitkFloat32)\n",
        "    # Get raw data\n",
        "    scan = sitk.GetArrayFromImage(scan_sitk)\n",
        "    return scan\n",
        "\n",
        "def read_mask_file(filepath):\n",
        "    \"\"\"Read and load volume\"\"\"\n",
        "    # Read file\n",
        "    mask_sitk = sitk.ReadImage(filepath, sitk.sitkInt16)\n",
        "    # Get raw data\n",
        "    mask = sitk.GetArrayFromImage(mask_sitk)\n",
        "    return mask\n",
        "\n",
        "def normalize(volume):\n",
        "    \"\"\"Normalize the volume\"\"\"\n",
        "    min = -1350\n",
        "    max = 150\n",
        "    volume[volume < min] = min\n",
        "    volume[volume > max] = max\n",
        "    volume = (volume - min) / (max - min)\n",
        "    volume = volume.astype(\"float32\")\n",
        "    return volume\n",
        "\n",
        "def process_scan(path):\n",
        "    \"\"\"Read and resize volume\"\"\"\n",
        "    # Read scan\n",
        "    volume = read_mha_file(path)\n",
        "    # Normalize\n",
        "    volume = normalize(volume)\n",
        "    return volume\n",
        "\n",
        "# print(\"\\nSupervoxelation for files from: {} to: {}\\n\".format(file_start, file_end))\n",
        "\n",
        "# for k in range(file_start, file_end):\n",
        "\n",
        "\n",
        "scanpath = \"/content/drive/MyDrive/output_image.nii\"\n",
        "maskpath = \"/content/drive/MyDrive/test.nii\"\n",
        "\n",
        "print(\"\\nProcessing file: {} and mask: {}\\n\".format(scanpath, maskpath))\n",
        "\n",
        "scan = process_scan(scanpath)\n",
        "mask = read_mask_file(maskpath)\n",
        "\n",
        "\n",
        "def super_voxelation(scan, mask):\n",
        "\n",
        "    num_supervoxels = 10\n",
        "\n",
        "    num_query = 12\n",
        "    num_extracted = 11\n",
        "\n",
        "    compactness = 0.9\n",
        "\n",
        "    count = 0\n",
        "    print(\"here\")\n",
        "    while num_extracted != num_supervoxels:\n",
        "\n",
        "        count += 1\n",
        "\n",
        "        if count >= 6:\n",
        "            print(\"No solution in 6 iterations for {}.\".format(\"test\"))\n",
        "            break\n",
        "\n",
        "        segments_slic = slic(scan, compactness=compactness, sigma=0, enforce_connectivity=True,\n",
        "                    n_segments=num_query, start_label=1, mask=mask, channel_axis=None)\n",
        "        print(segments_slic)\n",
        "\n",
        "\n",
        "        indices = np.unique(segments_slic)\n",
        "        num_extracted = len(indices)\n",
        "\n",
        "        print(\"Number of query supervoxels: {} Number of extracted superpixels: {}\".format(num_query, num_extracted))\n",
        "\n",
        "        if num_extracted > num_supervoxels:\n",
        "            num_query -=1\n",
        "        elif num_extracted < num_supervoxels:\n",
        "            num_query +=1\n",
        "        else:\n",
        "            if num_query == num_extracted:\n",
        "                compactness -=0.1\n",
        "            else:\n",
        "                num_query +=1\n",
        "\n",
        "    slic_segmentation = np.swapaxes(segments_slic, 0, 2)\n",
        "    return slic_segmentation\n"
      ]
    },
    {
      "cell_type": "code",
      "source": [
        "from google.colab import drive\n",
        "drive.mount('/content/drive')"
      ],
      "metadata": {
        "colab": {
          "base_uri": "https://localhost:8080/"
        },
        "id": "NNhJrWAX734a",
        "outputId": "2d6d40f2-8b92-4fe1-fbaa-73a8c1beb5b2"
      },
      "execution_count": null,
      "outputs": [
        {
          "output_type": "stream",
          "name": "stdout",
          "text": [
            "Drive already mounted at /content/drive; to attempt to forcibly remount, call drive.mount(\"/content/drive\", force_remount=True).\n"
          ]
        }
      ]
    },
    {
      "cell_type": "code",
      "execution_count": null,
      "metadata": {
        "id": "vWPWYBsVseIn",
        "outputId": "cd2ff8bf-6e5f-48f5-e1bb-9f96784507a8",
        "colab": {
          "base_uri": "https://localhost:8080/"
        }
      },
      "outputs": [
        {
          "output_type": "stream",
          "name": "stdout",
          "text": [
            "here\n",
            "[[[ 1  1  1 ...  2  2  2]\n",
            "  [ 1  1  1 ...  2  2  2]\n",
            "  [ 1  1  1 ...  2  2  2]\n",
            "  ...\n",
            "  [ 4  4  4 ...  5  5  5]\n",
            "  [ 4  4  4 ...  5  5  5]\n",
            "  [ 4  4  4 ...  5  5  5]]\n",
            "\n",
            " [[ 1  1  1 ...  2  2  2]\n",
            "  [ 1  1  1 ...  2  2  2]\n",
            "  [ 1  1  1 ...  2  2  2]\n",
            "  ...\n",
            "  [ 4  4  4 ...  5  5  5]\n",
            "  [ 4  4  4 ...  5  5  5]\n",
            "  [ 4  4  4 ...  5  5  5]]\n",
            "\n",
            " [[ 1  1  1 ...  2  2  2]\n",
            "  [ 1  1  1 ...  2  2  2]\n",
            "  [ 1  1  1 ...  2  2  2]\n",
            "  ...\n",
            "  [ 4  4  4 ...  5  5  5]\n",
            "  [ 4  4  4 ...  5  5  5]\n",
            "  [ 4  4  4 ...  5  5  5]]\n",
            "\n",
            " ...\n",
            "\n",
            " [[11 11 11 ...  9  9  9]\n",
            "  [11 11 11 ...  9  9  9]\n",
            "  [11 11 11 ...  9  9  9]\n",
            "  ...\n",
            "  [12 12 12 ... 10 10 10]\n",
            "  [12 12 12 ... 10 10 10]\n",
            "  [12 12 12 ... 10 10 10]]\n",
            "\n",
            " [[11 11 11 ...  9  9  9]\n",
            "  [11 11 11 ...  9  9  9]\n",
            "  [11 11 11 ...  9  9  9]\n",
            "  ...\n",
            "  [12 12 12 ... 10 10 10]\n",
            "  [12 12 12 ... 10 10 10]\n",
            "  [12 12 12 ... 10 10 10]]\n",
            "\n",
            " [[11 11 11 ...  9  9  9]\n",
            "  [11 11 11 ...  9  9  9]\n",
            "  [11 11 11 ...  9  9  9]\n",
            "  ...\n",
            "  [12 12 12 ... 10 10 10]\n",
            "  [12 12 12 ... 10 10 10]\n",
            "  [12 12 12 ... 10 10 10]]]\n",
            "Number of query supervoxels: 12 Number of extracted superpixels: 12\n",
            "No solution in 6 iterations for test.\n"
          ]
        }
      ],
      "source": [
        "mask = read_mask_file(maskpath)\n",
        "\n",
        "slic_segmentation = super_voxelation(mask,scan)\n",
        "nrrd.write('/content/drive/MyDrive/' + str(f'test_slic') + '.nrrd', slic_segmentation)"
      ]
    },
    {
      "cell_type": "code",
      "source": [],
      "metadata": {
        "id": "BrDrlmHDuIr1"
      },
      "execution_count": null,
      "outputs": []
    },
    {
      "cell_type": "code",
      "source": [
        "import matplotlib.pyplot as plt\n",
        "import numpy as np\n",
        "import SimpleITK as sitk\n",
        "import nibabel as nib\n",
        "\n",
        "from skimage.segmentation import slic, quickshift, felzenszwalb\n",
        "from skimage.segmentation import mark_boundaries\n",
        "from skimage.measure import regionprops\n",
        "from skimage.util import img_as_float\n",
        "from skimage import io, exposure, util\n",
        "\n",
        "# from mpl_toolkits.mplot3d.art3d import Poly3DCollection\n",
        "\n",
        "import pickle\n",
        "import glob\n",
        "import sys\n",
        "import nrrd\n",
        "\n",
        "# file_start = int(sys.argv[1])\n",
        "# file_end = int(sys.argv[2])\n",
        "\n",
        "# files = glob.glob(\"ctrs/*.mha\")\n",
        "\n",
        "def read_mha_file(filepath):\n",
        "    \"\"\"Read and load volume\"\"\"\n",
        "    # Read file\n",
        "    scan_sitk = sitk.ReadImage(filepath, sitk.sitkFloat32)\n",
        "    # Get raw data\n",
        "    scan = sitk.GetArrayFromImage(scan_sitk)\n",
        "    # scan = nib.load(filepath).get_fdata()\n",
        "    return scan\n",
        "\n",
        "def read_mask_file(filepath, label):\n",
        "    \"\"\"Read and load volume\"\"\"\n",
        "    # Read file\n",
        "    mask_sitk = sitk.ReadImage(filepath, sitk.sitkInt16)\n",
        "    # Get raw data\n",
        "    mask = sitk.GetArrayFromImage(mask_sitk)\n",
        "    # mask = nib.load(filepath).get_fdata()\n",
        "    new_mask = (mask == label)\n",
        "    return  (mask == label)\n",
        "\n",
        "def normalize(volume):\n",
        "    \"\"\"Normalize the volume\"\"\"\n",
        "    min = -1350\n",
        "    max = 150\n",
        "    volume[volume < min] = min\n",
        "    volume[volume > max] = max\n",
        "    volume = (volume - min) / (max - min)\n",
        "    volume = volume.astype(\"float32\")\n",
        "    return volume\n",
        "\n",
        "def process_scan(path):\n",
        "    \"\"\"Read and resize volume\"\"\"\n",
        "    # Read scan\n",
        "    volume = read_mha_file(path)\n",
        "    # Normalize\n",
        "    # volume = normalize(volume)\n",
        "    return volume\n",
        "\n",
        "# print(\"\\nSupervoxelation for files from: {} to: {}\\n\".format(file_start, file_end))\n",
        "\n",
        "# for k in range(file_start, file_end):\n",
        "\n",
        "#     file = files[k][5:]\n",
        "\n",
        "scanpath = \"/content/drive/MyDrive/output_image.nii\"\n",
        "maskpath = \"/content/drive/MyDrive/test.nii\"\n",
        "\n",
        "print(\"\\nProcessing file: {} and mask: {}\\n\".format(scanpath, maskpath))\n",
        "\n",
        "scan = process_scan(scanpath)\n",
        "final_scan = np.zeros(scan.shape)\n",
        "subsegments = {\n",
        "    1: 10,\n",
        "    2: 10,\n",
        "    3: 6,\n",
        "    4: 4,\n",
        "    5: 12\n",
        "}\n",
        "n_segments_done = 0\n",
        "segments = []\n",
        "for label in range(1,6):\n",
        "    mask = read_mask_file(maskpath,label)\n",
        "    segments_slic = []\n",
        "    num_supervoxels = subsegments[label] + 1\n",
        "    flag = 1\n",
        "    num_query = subsegments[label] + 2\n",
        "    num_extracted = subsegments[label] + 3\n",
        "\n",
        "    compactness = 0.9\n",
        "\n",
        "    count = 0\n",
        "\n",
        "    while num_extracted != num_supervoxels:\n",
        "\n",
        "        count += 1\n",
        "        print(count, label)\n",
        "        if count > 6:\n",
        "            print(\"No solution in 6 iterations for {}.\")\n",
        "            flag = 0\n",
        "            break\n",
        "\n",
        "        segments_slic = slic(scan, compactness=compactness, sigma=0, enforce_connectivity=True,\n",
        "                    n_segments=num_query, start_label=1, mask=mask, channel_axis=None)\n",
        "\n",
        "        indices = np.unique(segments_slic)\n",
        "        num_extracted = len(indices) - 1\n",
        "\n",
        "        print(\"Number of query supervoxels: {} Number of extracted superpixels: {}\".format(num_query, num_extracted))\n",
        "\n",
        "        if num_extracted > num_supervoxels:\n",
        "            num_query -=1\n",
        "        elif num_extracted < num_supervoxels:\n",
        "            num_query +=1\n",
        "        else:\n",
        "            if num_query == num_extracted:\n",
        "                compactness -=0.1\n",
        "            else:\n",
        "                num_query +=1\n",
        "        print(np.unique(segments_slic, return_counts=True))\n",
        "    slic_segmentation = np.swapaxes(segments_slic, 0, 2)\n",
        "\n",
        "    slic_segmentation[np.where(slic_segmentation>0)] += n_segments_done\n",
        "    slic_segmentation[np.where(slic_segmentation == n_segments_done + num_extracted)] = 0\n",
        "    print(n_segments_done)\n",
        "    n_segments_done +=num_extracted - 1\n",
        "    print(n_segments_done)\n",
        "    final_scan += slic_segmentation\n",
        "    print(np.unique(final_scan))\n",
        "print(segments)\n",
        "nrrd.write('/content/drive/MyDrive/' + str(f'test_slic') + '.nrrd', final_scan)\n",
        "    # np.save('/ssd_scratch/cvit/chocolite/data/slic_small/' + str(file), segments_slic)\n",
        "\n",
        "    # centroids = []\n",
        "\n",
        "    # centroids_1 = []\n",
        "    # centroids_2 = []\n",
        "\n",
        "    # regions = regionprops(segments_slic)\n",
        "\n",
        "    # for props in regions:\n",
        "    #     cx, cy, cz = props.centroid\n",
        "    #     cx = int(cx)\n",
        "    #     cy = int(cy)\n",
        "    #     cz = int(cz)\n",
        "    #     # print(cx, cy, cz)\n",
        "\n",
        "    #     centroids.append([cx, cy, cz])\n",
        "\n",
        "    #     # print(mask[cx, cy, cz] == 1)\n",
        "\n",
        "    #     if mask[cx, cy, cz] == 1:\n",
        "    #         centroids_1.append([cx, cy, cz])\n",
        "    #     elif mask[cx, cy, cz] == 2:\n",
        "    #         centroids_2.append([cx, cy, cz])\n",
        "\n",
        "    # centroids = np.asarray(centroids)\n",
        "\n",
        "    # from sklearn.neighbors import kneighbors_graph\n",
        "\n",
        "    # A = kneighbors_graph(centroids, 3, mode='distance', include_self=False)\n",
        "    # A.toarray()\n",
        "\n",
        "    # import networkx as nx\n",
        "\n",
        "    # G = nx.from_numpy_matrix(np.matrix(A.toarray()), create_using=nx.DiGraph)\n",
        "\n",
        "    # layout = nx.spring_layout(G)\n",
        "\n"
      ],
      "metadata": {
        "colab": {
          "base_uri": "https://localhost:8080/"
        },
        "id": "2tI9T6wYLQhF",
        "outputId": "74a8fdb0-dded-42aa-d945-37ef3386efaf"
      },
      "execution_count": null,
      "outputs": [
        {
          "output_type": "stream",
          "name": "stdout",
          "text": [
            "\n",
            "Processing file: /content/drive/MyDrive/output_image.nii and mask: /content/drive/MyDrive/test.nii\n",
            "\n",
            "1 1\n",
            "Number of query supervoxels: 12 Number of extracted superpixels: 13\n",
            "(array([ 0,  1,  2,  3,  4,  5,  6,  7,  8,  9, 10, 11, 12, 13]), array([75574416,   137310,   112471,   149566,   152221,   141568,\n",
            "         155395,   100077,   138144,   128399,   136592,   119532,\n",
            "         106719,       90]))\n",
            "2 1\n",
            "Number of query supervoxels: 11 Number of extracted superpixels: 12\n",
            "(array([ 0,  1,  2,  3,  4,  5,  6,  7,  8,  9, 10, 11, 12]), array([75574416,   137767,   141017,   159127,   150905,   150100,\n",
            "         146106,   111002,   132143,   182224,   176848,    90737,\n",
            "            108]))\n",
            "3 1\n",
            "Number of query supervoxels: 10 Number of extracted superpixels: 11\n",
            "(array([ 0,  1,  2,  3,  4,  5,  6,  7,  8,  9, 10, 11]), array([75574416,   143791,   140618,   182848,   155849,   191610,\n",
            "         149382,   122575,   177157,   120622,   193524,      108]))\n",
            "0\n",
            "10\n",
            "[ 0.  1.  2.  3.  4.  5.  6.  7.  8.  9. 10.]\n",
            "1 2\n",
            "Number of query supervoxels: 12 Number of extracted superpixels: 13\n",
            "(array([ 0,  1,  2,  3,  4,  5,  6,  7,  8,  9, 10, 11, 12, 13]), array([75422930,   142264,   176352,   140069,   133841,   141097,\n",
            "         142087,   140288,   166072,   147686,   144526,   139279,\n",
            "         115959,       50]))\n",
            "2 2\n",
            "Number of query supervoxels: 11 Number of extracted superpixels: 12\n",
            "(array([ 0,  1,  2,  3,  4,  5,  6,  7,  8,  9, 10, 11, 12]), array([75422930,   138865,   198544,   173025,   186488,   150101,\n",
            "         132672,   148398,   171847,   158986,   152981,   117603,\n",
            "             60]))\n",
            "3 2\n",
            "Number of query supervoxels: 10 Number of extracted superpixels: 11\n",
            "(array([ 0,  1,  2,  3,  4,  5,  6,  7,  8,  9, 10, 11]), array([75422930,   149270,   191399,   185456,   194438,   162409,\n",
            "         172004,   239258,   163553,   126221,   145502,       60]))\n",
            "10\n",
            "20\n",
            "[ 0.  1.  2.  3.  4.  5.  6.  7.  8.  9. 10. 11. 12. 13. 14. 15. 16. 17.\n",
            " 18. 19. 20.]\n",
            "1 3\n",
            "Number of query supervoxels: 8 Number of extracted superpixels: 9\n",
            "(array([0, 1, 2, 3, 4, 5, 6, 7, 8, 9]), array([75360293,   261506,   226882,   185061,   207801,   255461,\n",
            "         226521,   221321,   207619,       35]))\n",
            "2 3\n",
            "Number of query supervoxels: 7 Number of extracted superpixels: 8\n",
            "(array([0, 1, 2, 3, 4, 5, 6, 7, 8]), array([75360293,   277615,   250575,   231381,   273157,   270426,\n",
            "         238242,   250774,       37]))\n",
            "3 3\n",
            "Number of query supervoxels: 6 Number of extracted superpixels: 7\n",
            "(array([0, 1, 2, 3, 4, 5, 6, 7]), array([75360293,   298448,   336916,   279367,   318643,   292073,\n",
            "         266665,       95]))\n",
            "20\n",
            "26\n",
            "[ 0.  1.  2.  3.  4.  5.  6.  7.  8.  9. 10. 11. 12. 13. 14. 15. 16. 17.\n",
            " 18. 19. 20. 21. 22. 23. 24. 25. 26.]\n",
            "1 4\n",
            "Number of query supervoxels: 6 Number of extracted superpixels: 7\n",
            "(array([0, 1, 2, 3, 4, 5, 6, 7]), array([76464761,   106277,   113180,   102681,   136343,   129761,\n",
            "          99299,      198]))\n",
            "2 4\n",
            "Number of query supervoxels: 5 Number of extracted superpixels: 6\n",
            "(array([0, 1, 2, 3, 4, 5, 6]), array([76464761,   167243,   115874,   139328,   143148,   121948,\n",
            "            198]))\n",
            "3 4\n",
            "Number of query supervoxels: 4 Number of extracted superpixels: 5\n",
            "(array([0, 1, 2, 3, 4, 5]), array([76464761,   178371,   135379,   166598,   207193,      198]))\n",
            "26\n",
            "30\n",
            "[ 0.  1.  2.  3.  4.  5.  6.  7.  8.  9. 10. 11. 12. 13. 14. 15. 16. 17.\n",
            " 18. 19. 20. 21. 22. 23. 24. 25. 26. 27. 28. 29. 30.]\n",
            "1 5\n",
            "Number of query supervoxels: 14 Number of extracted superpixels: 15\n",
            "(array([ 0,  1,  2,  3,  4,  5,  6,  7,  8,  9, 10, 11, 12, 13, 14, 15]), array([75762317,    93585,   104817,   100416,    95284,    94401,\n",
            "         123213,   108911,    89280,    82228,    99395,   107410,\n",
            "         115825,    82786,    92613,       19]))\n",
            "2 5\n",
            "Number of query supervoxels: 13 Number of extracted superpixels: 14\n",
            "(array([ 0,  1,  2,  3,  4,  5,  6,  7,  8,  9, 10, 11, 12, 13, 14]), array([75762317,   109974,   104219,   132261,   102426,    98534,\n",
            "         116357,   120425,    83624,   112577,   104922,   119994,\n",
            "         101018,    83826,       26]))\n",
            "3 5\n",
            "Number of query supervoxels: 12 Number of extracted superpixels: 13\n",
            "(array([ 0,  1,  2,  3,  4,  5,  6,  7,  8,  9, 10, 11, 12, 13]), array([75762317,   113734,   119676,   122377,    98176,   132414,\n",
            "         118365,   120138,    98590,   115898,   119852,   113405,\n",
            "         117532,       26]))\n",
            "30\n",
            "42\n",
            "[ 0.  1.  2.  3.  4.  5.  6.  7.  8.  9. 10. 11. 12. 13. 14. 15. 16. 17.\n",
            " 18. 19. 20. 21. 22. 23. 24. 25. 26. 27. 28. 29. 30. 31. 32. 33. 34. 35.\n",
            " 36. 37. 38. 39. 40. 41. 42.]\n",
            "[]\n"
          ]
        }
      ]
    },
    {
      "cell_type": "code",
      "source": [
        "unique, counts = np.unique(final_scan,return_counts=True)"
      ],
      "metadata": {
        "id": "bv1KQa_guCXA"
      },
      "execution_count": null,
      "outputs": []
    },
    {
      "cell_type": "code",
      "source": [
        "print(counts)"
      ],
      "metadata": {
        "colab": {
          "base_uri": "https://localhost:8080/"
        },
        "id": "tVLKuE9K747T",
        "outputId": "2308eeb5-3b54-4249-809a-7a6dff0453e4"
      },
      "execution_count": null,
      "outputs": [
        {
          "output_type": "stream",
          "name": "stdout",
          "text": [
            "[69975204   143791   140618   182848   155849   191610   149382   122575\n",
            "   177157   120622   193524   149270   191399   185456   194438   162409\n",
            "   172004   239258   163553   126221   145502   298448   336916   279367\n",
            "   318643   292073   266665   178371   135379   166598   207193   113734\n",
            "   119676   122377    98176   132414   118365   120138    98590   115898\n",
            "   119852   113405   117532]\n"
          ]
        }
      ]
    },
    {
      "cell_type": "code",
      "source": [
        "print(final_scan.shape[0] *final_scan.shape[1] * final_scan.shape[2])"
      ],
      "metadata": {
        "colab": {
          "base_uri": "https://localhost:8080/"
        },
        "id": "yij5h_-C77ac",
        "outputId": "3aea8061-3e42-4723-9355-ae6bfd5fc306"
      },
      "execution_count": null,
      "outputs": [
        {
          "output_type": "stream",
          "name": "stdout",
          "text": [
            "77152500\n"
          ]
        }
      ]
    },
    {
      "cell_type": "code",
      "source": [
        "mask = (final_scan == 11).astype(final_scan.dtype)\n",
        "nrrd.write('/content/drive/MyDrive/' + str(f'test_slic') + '.nrrd', mask)\n"
      ],
      "metadata": {
        "id": "N_7_DWMzo2wG"
      },
      "execution_count": null,
      "outputs": []
    },
    {
      "cell_type": "code",
      "source": [
        "print(np.where(final_scan == 11))"
      ],
      "metadata": {
        "colab": {
          "base_uri": "https://localhost:8080/"
        },
        "id": "Pp9yVtzNva7Y",
        "outputId": "5511ff38-1abb-48f7-b8e2-8f1919d5f6e8"
      },
      "execution_count": null,
      "outputs": [
        {
          "output_type": "stream",
          "name": "stdout",
          "text": [
            "(array([262, 262, 335, 335, 336, 336, 366, 367, 372, 372]), array([124, 124, 122, 122, 122, 122, 169, 169, 145, 146]), array([301, 302, 322, 323, 322, 323, 287, 287, 274, 274]))\n"
          ]
        }
      ]
    },
    {
      "cell_type": "code",
      "source": [
        "import nibabel as nib"
      ],
      "metadata": {
        "id": "xrdoxz20uNQc"
      },
      "execution_count": null,
      "outputs": []
    },
    {
      "cell_type": "code",
      "source": [
        "# mask_sitk = sitk.ReadImage('/content/drive/MyDrive/test.nii', sitk.sitkInt16)\n",
        "testmask = nib.load('/content/drive/MyDrive/test.nii').get_fdata()\n",
        "print(np.unique(testmask))\n",
        "print(np.unique(final_scan[np.where(testmask == 2)]))"
      ],
      "metadata": {
        "colab": {
          "base_uri": "https://localhost:8080/"
        },
        "id": "pQ1nKjlx-GzP",
        "outputId": "f975f42f-ea31-4cc0-8d0b-61311ff675f3"
      },
      "execution_count": null,
      "outputs": [
        {
          "output_type": "stream",
          "name": "stdout",
          "text": [
            "[0. 1. 2. 3. 4. 5.]\n",
            "[ 1.  2.  3.  4.  5.  6.  7.  8.  9. 10. 11.]\n"
          ]
        }
      ]
    },
    {
      "cell_type": "code",
      "source": [
        "print(np.where(mask >0))"
      ],
      "metadata": {
        "colab": {
          "base_uri": "https://localhost:8080/"
        },
        "id": "iCFz8lEQtTf8",
        "outputId": "583bc36a-a366-4348-f0f5-61d1a5d2019c"
      },
      "execution_count": null,
      "outputs": [
        {
          "output_type": "stream",
          "name": "stdout",
          "text": [
            "(array([175, 176, 176, ..., 250, 250, 250]), array([289, 284, 285, ..., 222, 223, 271]), array([372, 373, 372, ..., 381, 381, 385]))\n"
          ]
        }
      ]
    },
    {
      "cell_type": "code",
      "source": [
        "print(np.where(testmask ==2  ))"
      ],
      "metadata": {
        "colab": {
          "base_uri": "https://localhost:8080/"
        },
        "id": "sF9adv7mtm5y",
        "outputId": "68fd41fc-ef57-452e-8631-5d2f05af6c41"
      },
      "execution_count": null,
      "outputs": [
        {
          "output_type": "stream",
          "name": "stdout",
          "text": [
            "(array([136, 136, 136, ..., 338, 338, 338]), array([253, 253, 267, ..., 146, 146, 146]), array([328, 329, 331, ..., 302, 303, 304]))\n"
          ]
        }
      ]
    },
    {
      "cell_type": "code",
      "source": [
        "print(final_scan[136][253][328])"
      ],
      "metadata": {
        "colab": {
          "base_uri": "https://localhost:8080/"
        },
        "id": "djjfbzjqsUWL",
        "outputId": "b6c51238-df03-4844-c2ef-3e08736cac63"
      },
      "execution_count": null,
      "outputs": [
        {
          "output_type": "stream",
          "name": "stdout",
          "text": [
            "11.0\n"
          ]
        }
      ]
    },
    {
      "cell_type": "code",
      "source": [
        "print(np.where(mask == 1))"
      ],
      "metadata": {
        "colab": {
          "base_uri": "https://localhost:8080/"
        },
        "id": "T7qEt_bmrH2T",
        "outputId": "078566df-4afb-43e3-c3dc-bd36fab644c2"
      },
      "execution_count": null,
      "outputs": [
        {
          "output_type": "stream",
          "name": "stdout",
          "text": [
            "(array([136, 136, 137, 137, 138, 138, 139, 139, 139, 139, 140, 140, 140,\n",
            "       140, 141, 141, 141, 141, 173, 173, 208, 208, 209, 209, 213, 213,\n",
            "       214, 214, 215, 215, 219, 220, 238, 238, 239, 239, 239, 240, 240,\n",
            "       240, 246, 246, 247, 247, 248, 248, 251, 251, 252, 252, 253, 253,\n",
            "       274, 274, 287, 287, 322, 322, 323, 323]), array([253, 253, 253, 253, 251, 252, 249, 249, 250, 250, 247, 247, 248,\n",
            "       248, 247, 247, 248, 248, 223, 223, 163, 163, 162, 162, 162, 162,\n",
            "       161, 161, 160, 160, 161, 160, 145, 145, 145, 145, 162, 145, 145,\n",
            "       161, 166, 166, 166, 166, 165, 165, 162, 162, 162, 162, 161, 161,\n",
            "       145, 146, 169, 169, 122, 122, 122, 122]), array([328, 329, 328, 329, 330, 330, 331, 332, 331, 332, 333, 334, 333,\n",
            "       334, 333, 334, 333, 334, 363, 364, 375, 376, 375, 376, 377, 378,\n",
            "       377, 378, 377, 378, 379, 379, 377, 378, 377, 378, 379, 377, 378,\n",
            "       379, 375, 376, 375, 376, 375, 376, 375, 376, 375, 376, 375, 376,\n",
            "       372, 372, 366, 367, 335, 336, 335, 336]))\n"
          ]
        }
      ]
    },
    {
      "cell_type": "code",
      "source": [
        "unique,count = np.unique(slic_segmentation, return_counts=True)"
      ],
      "metadata": {
        "id": "lQ3RO1FJ6fBa"
      },
      "execution_count": null,
      "outputs": []
    },
    {
      "cell_type": "code",
      "source": [
        "print(np.where(final_scan == 10))"
      ],
      "metadata": {
        "colab": {
          "base_uri": "https://localhost:8080/"
        },
        "id": "5e-La3hmEki6",
        "outputId": "dfc92eec-9e63-4f8a-f0df-e8a10188a184"
      },
      "execution_count": null,
      "outputs": [
        {
          "output_type": "stream",
          "name": "stdout",
          "text": [
            "(array([175, 176, 176, ..., 250, 250, 250]), array([289, 284, 285, ..., 222, 223, 271]), array([372, 373, 372, ..., 381, 381, 385]))\n"
          ]
        }
      ]
    },
    {
      "cell_type": "code",
      "source": [
        "print(count, unique)"
      ],
      "metadata": {
        "colab": {
          "base_uri": "https://localhost:8080/"
        },
        "id": "OEA9jFtL6px7",
        "outputId": "94603220-6a2e-40f4-dae7-b65b92b7f210"
      },
      "execution_count": null,
      "outputs": [
        {
          "output_type": "stream",
          "name": "stdout",
          "text": [
            "[75422930   149270   191399   185456   194438   162409   172004   239258\n",
            "   163553   126221   145502       60] [ 0  1  2  3  4  5  6  7  8  9 10 11]\n"
          ]
        }
      ]
    },
    {
      "cell_type": "code",
      "source": [
        "print(np.where(testmask == 2))"
      ],
      "metadata": {
        "colab": {
          "base_uri": "https://localhost:8080/"
        },
        "id": "a8y-HIpdEu92",
        "outputId": "9f9fdd90-b82b-489a-de9a-e6f3a22f8c29"
      },
      "execution_count": null,
      "outputs": [
        {
          "output_type": "stream",
          "name": "stdout",
          "text": [
            "(array([237, 237, 237, ..., 387, 387, 387]), array([278, 278, 278, ..., 285, 285, 285]), array([257, 258, 259, ..., 232, 233, 234]))\n"
          ]
        }
      ]
    },
    {
      "cell_type": "code",
      "source": [
        "print(final_scan[237][278][257])"
      ],
      "metadata": {
        "colab": {
          "base_uri": "https://localhost:8080/"
        },
        "id": "C8he39dIk-RI",
        "outputId": "6c8e3df1-d41b-4abc-809f-197c7cf5b2e0"
      },
      "execution_count": null,
      "outputs": [
        {
          "output_type": "stream",
          "name": "stdout",
          "text": [
            "0.0\n"
          ]
        }
      ]
    },
    {
      "cell_type": "code",
      "source": [
        "print(np.unique(testmask[mask == False]))"
      ],
      "metadata": {
        "colab": {
          "base_uri": "https://localhost:8080/"
        },
        "id": "m7rqrAyjlI75",
        "outputId": "7d10e776-2dfb-46b7-a1c6-7b3c172adf23"
      },
      "execution_count": null,
      "outputs": [
        {
          "output_type": "stream",
          "name": "stdout",
          "text": [
            "[0 1 3 4 5]\n"
          ]
        }
      ]
    },
    {
      "cell_type": "code",
      "source": [
        "print(np.unique(final_scan).shape)"
      ],
      "metadata": {
        "colab": {
          "base_uri": "https://localhost:8080/"
        },
        "id": "CfEeXkCEOISL",
        "outputId": "9dcb9445-aa59-470c-8ed3-52177eab61ac"
      },
      "execution_count": null,
      "outputs": [
        {
          "output_type": "stream",
          "name": "stdout",
          "text": [
            "(43,)\n"
          ]
        }
      ]
    },
    {
      "cell_type": "code",
      "source": [
        "array = np.array([[0,1],[1,2],[2,3],[0,1]])\n",
        "\n",
        "array[np.where(array >0 )] += 2\n",
        "print(array)"
      ],
      "metadata": {
        "colab": {
          "base_uri": "https://localhost:8080/"
        },
        "id": "iC7epeh6ReUO",
        "outputId": "73364f8d-bf8b-4335-bbcf-4e5353d3670c"
      },
      "execution_count": null,
      "outputs": [
        {
          "output_type": "stream",
          "name": "stdout",
          "text": [
            "[[0 3]\n",
            " [3 4]\n",
            " [4 5]\n",
            " [0 3]]\n"
          ]
        }
      ]
    }
  ],
  "metadata": {
    "kernelspec": {
      "display_name": "Python 3",
      "language": "python",
      "name": "python3"
    },
    "language_info": {
      "codemirror_mode": {
        "name": "ipython",
        "version": 3
      },
      "file_extension": ".py",
      "mimetype": "text/x-python",
      "name": "python",
      "nbconvert_exporter": "python",
      "pygments_lexer": "ipython3",
      "version": "3.10.12"
    },
    "orig_nbformat": 4,
    "colab": {
      "provenance": [],
      "include_colab_link": true
    }
  },
  "nbformat": 4,
  "nbformat_minor": 0
}